{
  "nbformat": 4,
  "nbformat_minor": 0,
  "metadata": {
    "colab": {
      "name": "Task_1",
      "provenance": [],
      "collapsed_sections": []
    },
    "kernelspec": {
      "name": "python3",
      "display_name": "Python 3"
    },
    "language_info": {
      "name": "python"
    }
  },
  "cells": [
    {
      "cell_type": "markdown",
      "metadata": {
        "id": "k3jA4kbvhKyP"
      },
      "source": [
        "# CUREYA\n",
        "### TASK - 1"
      ]
    },
    {
      "cell_type": "code",
      "metadata": {
        "colab": {
          "base_uri": "https://localhost:8080/"
        },
        "id": "fQjPJGhAh7yC",
        "outputId": "7141b056-2d72-4b83-b0c3-f68484ead8ed"
      },
      "source": [
        "#  NUMBERS\n",
        "A=2\n",
        "B=1.5\n",
        "print(\"Int(A)= \",int(A))\n",
        "print(\"Int(B)= \",int(B))\n",
        "print(\"Float(B)= \",float(B))"
      ],
      "execution_count": null,
      "outputs": [
        {
          "output_type": "stream",
          "text": [
            "Int(A)=  2\n",
            "Int(B)=  1\n",
            "Float(B)=  1.5\n"
          ],
          "name": "stdout"
        }
      ]
    },
    {
      "cell_type": "code",
      "metadata": {
        "colab": {
          "base_uri": "https://localhost:8080/"
        },
        "id": "vUiAUKfshBWA",
        "outputId": "011c012f-f294-4baa-ad42-bdd7a08d3a79"
      },
      "source": [
        "#  VARIABLES\n",
        "\n",
        "Var_1 = 10\n",
        "Var_2 = 20\n",
        "\n",
        "Var_1,Var_2 = Var_2,Var_1\n",
        "\n",
        "print(\"Var_1 = \",Var_1)\n",
        "print(\"Var_2 = \",Var_2)"
      ],
      "execution_count": null,
      "outputs": [
        {
          "output_type": "stream",
          "text": [
            "Var_1 =  20\n",
            "Var_2 =  10\n"
          ],
          "name": "stdout"
        }
      ]
    },
    {
      "cell_type": "code",
      "metadata": {
        "colab": {
          "base_uri": "https://localhost:8080/"
        },
        "id": "-clWj0-3inLZ",
        "outputId": "9a6be6a8-5df8-48af-c6de-d5b46c742aab"
      },
      "source": [
        "#  STRING\n",
        "\n",
        "D = \"Pritam\"\n",
        "\n",
        "print(D[-1])\n",
        "\n",
        "print(D[2:])\n",
        "\n",
        "print(D.capitalize())\n",
        "\n",
        "print(D.index(\"a\"))\n",
        "\n",
        "D = D[::-1]\n",
        "print(D)"
      ],
      "execution_count": null,
      "outputs": [
        {
          "output_type": "stream",
          "text": [
            "m\n",
            "itam\n",
            "Pritam\n",
            "4\n",
            "matirP\n"
          ],
          "name": "stdout"
        }
      ]
    },
    {
      "cell_type": "code",
      "metadata": {
        "colab": {
          "base_uri": "https://localhost:8080/"
        },
        "id": "fSysOpfYhoZd",
        "outputId": "9806ece0-b8fb-4b08-961f-373a1637d337"
      },
      "source": [
        "#  List\n",
        "\n",
        "L_1 = [10,18,\"COLD\",12,\"HOT\",52]\n",
        "L_2 = [22,48,22,12,40,14]\n",
        "\n",
        "L_1.append(\"21\")\n",
        "print(L_1)\n",
        "\n",
        "print(L_1.pop(2))\n",
        "\n",
        "L_2.reverse()\n",
        "print(L_2)\n",
        "\n",
        "L_2.sort()\n",
        "print(L_2)"
      ],
      "execution_count": null,
      "outputs": [
        {
          "output_type": "stream",
          "text": [
            "[10, 18, 'COLD', 12, 'HOT', 52, '21']\n",
            "COLD\n",
            "[14, 40, 12, 22, 48, 22]\n",
            "[12, 14, 22, 22, 40, 48]\n"
          ],
          "name": "stdout"
        }
      ]
    },
    {
      "cell_type": "code",
      "metadata": {
        "colab": {
          "base_uri": "https://localhost:8080/"
        },
        "id": "NodRj4ifkPJ-",
        "outputId": "f7d01768-44cd-47d7-87a8-2b7bf2a277ef"
      },
      "source": [
        "#  Tuples\n",
        "\n",
        "T_1 = 4,2,6\n",
        "T_2 = ('Tuesday','Thusday',2,8)\n",
        "\n",
        "T_3 = (T_1 + T_2)\n",
        "print(T_3)\n",
        "\n",
        "print(T_3[1:4])\n",
        "\n",
        "print(len(T_3))\n",
        "\n",
        "print(type(T_3))\n",
        "\n",
        "print(T_3.count(3))\n",
        "\n",
        "del T_2\n",
        "\n",
        "print(T_3)"
      ],
      "execution_count": null,
      "outputs": [
        {
          "output_type": "stream",
          "text": [
            "(4, 2, 6, 'Tuesday', 'Thusday', 2, 8)\n",
            "(2, 6, 'Tuesday')\n",
            "7\n",
            "<class 'tuple'>\n",
            "0\n",
            "(4, 2, 6, 'Tuesday', 'Thusday', 2, 8)\n"
          ],
          "name": "stdout"
        }
      ]
    },
    {
      "cell_type": "code",
      "metadata": {
        "colab": {
          "base_uri": "https://localhost:8080/"
        },
        "id": "lARHYxk7jWHj",
        "outputId": "46669265-dbda-45bb-cf84-c906c67eae32"
      },
      "source": [
        "#  Dictionary\n",
        "\n",
        "Employee ={\"Name\" : \"Pritam\",\n",
        "           \"Age\" : \"25\",\n",
        "           \"DOB\" : \"08-03-1997\",\n",
        "           \"Place\":\"WB\",\n",
        "           \"Company\" : \"Cureya\"}\n",
        "\n",
        "print(Employee.get(\"Age\"))\n",
        "\n",
        "print(Employee.items())\n",
        "\n",
        "print(Employee.pop(\"Company\"))\n"
      ],
      "execution_count": null,
      "outputs": [
        {
          "output_type": "stream",
          "text": [
            "25\n",
            "dict_items([('Name', 'Pritam'), ('Age', '25'), ('DOB', '08-03-1997'), ('Place', 'WB'), ('Company', 'Cureya')])\n",
            "Cureya\n"
          ],
          "name": "stdout"
        }
      ]
    },
    {
      "cell_type": "code",
      "metadata": {
        "colab": {
          "base_uri": "https://localhost:8080/"
        },
        "id": "fylihaojkDWJ",
        "outputId": "57714bfe-737f-4feb-d281-7c175922dd1a"
      },
      "source": [
        "#  if-statement\n",
        "\n",
        "import random\n",
        "N_1 = random.randint(0,99)\n",
        "N_2 = random.randint(0,99)\n",
        "\n",
        "print('X=',N_1 ,',' 'Y=',N_2)\n",
        "\n",
        "sum = eval(input(\"enter sum X+Y: \"))\n",
        "result = N_1 + N_2\n",
        "\n",
        "if sum is result:\n",
        "    print(\"TRUE\")\n",
        "else:\n",
        "    print(\"False\")"
      ],
      "execution_count": null,
      "outputs": [
        {
          "output_type": "stream",
          "text": [
            "X= 52 ,Y= 66\n",
            "enter sum X+Y: 108\n",
            "False\n"
          ],
          "name": "stdout"
        }
      ]
    },
    {
      "cell_type": "code",
      "metadata": {
        "colab": {
          "base_uri": "https://localhost:8080/"
        },
        "id": "1e7hgFkk6eel",
        "outputId": "ba1a3399-12f5-4cda-f4c3-b8ca780d0483"
      },
      "source": [
        "#  For-loop\n",
        "\n",
        "print(\" The perfect numbers below 10000 are : \")\n",
        "for A in range (1,10000):\n",
        "    Y = 0\n",
        "    for K in range (1,A):\n",
        "        if A%K == 0:\n",
        "          Y = Y + K\n",
        "    if Y == A:\n",
        "        print(A)"
      ],
      "execution_count": null,
      "outputs": [
        {
          "output_type": "stream",
          "text": [
            " The perfect numbers below 10000 are : \n",
            "6\n",
            "28\n",
            "496\n",
            "8128\n"
          ],
          "name": "stdout"
        }
      ]
    },
    {
      "cell_type": "code",
      "metadata": {
        "colab": {
          "base_uri": "https://localhost:8080/"
        },
        "id": "oMHRiKAy79ka",
        "outputId": "f71bad3c-93bd-421a-dcf6-290a55080372"
      },
      "source": [
        "#  Arithmetic\n",
        "\n",
        "X = 2\n",
        "Y = 4\n",
        "\n",
        "X_1 = 3\n",
        "Y_1 = 4.5\n",
        "\n",
        "print(\"Area of Rectangle1 = \",X*Y)\n",
        "print(\"Perimeter of rectangle1 = \",2*(X+Y))\n",
        "\n",
        "print(\"area of rectangle2 is \",X_1*Y_1)\n",
        "print(\"perimeter of rectangle2 is \",2*(X_1+Y_1))\n",
        "\n",
        "A = (X*Y)/(X_1*Y_1)\n",
        "\n",
        "print(\"rectangle1 is \",int(A),\"times bigger than rectangle2\")"
      ],
      "execution_count": null,
      "outputs": [
        {
          "output_type": "stream",
          "text": [
            "Area of Rectangle1 =  8\n",
            "Perimeter of rectangle1 =  12\n",
            "area of rectangle2 is  13.5\n",
            "perimeter of rectangle2 is  15.0\n",
            "rectangle1 is  0 times bigger than rectangle2\n"
          ],
          "name": "stdout"
        }
      ]
    },
    {
      "cell_type": "code",
      "metadata": {
        "colab": {
          "base_uri": "https://localhost:8080/"
        },
        "id": "fUa_-xVo8oRJ",
        "outputId": "7f5dc743-871c-48ec-80ba-7ccd262d20cf"
      },
      "source": [
        "#  Numpy\n",
        "\n",
        "import numpy as np\n",
        "\n",
        "A = np.array([[5,6,4],[1,2,3]])\n",
        "print(np.shape(A))\n",
        "\n",
        "C =np.reshape(A,(3,2))\n",
        "print(C)\n",
        "\n",
        "K = np.max(A,1)\n",
        "print(K)\n",
        "\n",
        "P = np.max(A,0)\n",
        "print(P)"
      ],
      "execution_count": null,
      "outputs": [
        {
          "output_type": "stream",
          "text": [
            "(2, 3)\n",
            "[[5 6]\n",
            " [4 1]\n",
            " [2 3]]\n",
            "[6 3]\n",
            "[5 6 4]\n"
          ],
          "name": "stdout"
        }
      ]
    },
    {
      "cell_type": "code",
      "metadata": {
        "colab": {
          "base_uri": "https://localhost:8080/"
        },
        "id": "3BBemgUr9WiL",
        "outputId": "a9889d83-df49-42b9-ca59-f077fd3ae8ad"
      },
      "source": [
        "X = np.array([[1,3.2,3.4],[7,88.8,38.7]])\n",
        "\n",
        "print(np.round(X))\n",
        "\n",
        "Y = np.array([[1,2,3],[45,5,6]])\n",
        "\n",
        "print(np.concatenate((X,Y),axis=0))\n",
        "\n",
        "print(np.concatenate((X,Y),axis=1))"
      ],
      "execution_count": null,
      "outputs": [
        {
          "output_type": "stream",
          "text": [
            "[[ 1.  3.  3.]\n",
            " [ 7. 89. 39.]]\n",
            "[[ 1.   3.2  3.4]\n",
            " [ 7.  88.8 38.7]\n",
            " [ 1.   2.   3. ]\n",
            " [45.   5.   6. ]]\n",
            "[[ 1.   3.2  3.4  1.   2.   3. ]\n",
            " [ 7.  88.8 38.7 45.   5.   6. ]]\n"
          ],
          "name": "stdout"
        }
      ]
    },
    {
      "cell_type": "code",
      "metadata": {
        "colab": {
          "base_uri": "https://localhost:8080/",
          "height": 295
        },
        "id": "EMLSM1mTDZ9C",
        "outputId": "9936a6c6-4b4a-41b0-dfc7-7f102fadbf9f"
      },
      "source": [
        "#  Matplotlib\n",
        "\n",
        "import numpy as np\n",
        "from matplotlib import pyplot as plt\n",
        "\n",
        "A = np.array([1,2,3,4,5,6,7,8])\n",
        "\n",
        "#declaring the equation\n",
        "X = A**2+A*2+1\n",
        "\n",
        "plt.xlabel('X Axis')\n",
        "plt.ylabel('Y Axis')\n",
        "\n",
        "plt.title('Graph')\n",
        "\n",
        "plt.plot(X,A)\n",
        "plt.show()"
      ],
      "execution_count": null,
      "outputs": [
        {
          "output_type": "display_data",
          "data": {
            "image/png": "[encoded data removed]",
            "text/plain": [
              "<Figure size 432x288 with 1 Axes>"
            ]
          },
          "metadata": {
            "tags": [],
            "needs_background": "light"
          }
        }
      ]
    },
    {
      "cell_type": "code",
      "metadata": {
        "colab": {
          "base_uri": "https://localhost:8080/",
          "height": 281
        },
        "id": "Y8u3f7l_Dyfs",
        "outputId": "d4a128fa-af27-4ef4-f67a-7662ab61b82e"
      },
      "source": [
        "import numpy as np\n",
        "from matplotlib import pyplot as plt\n",
        "\n",
        "\n",
        "X = [15,12,14,18,15,10]\n",
        "\n",
        "Y = [1,2,3,4,5,6]\n",
        "\n",
        "# bar graph\n",
        "plt.title('Bar plot')\n",
        "plt.bar(Y,X)\n",
        "plt.show()"
      ],
      "execution_count": null,
      "outputs": [
        {
          "output_type": "display_data",
          "data": {
            "image/png": "[encoded data removed]",
            "text/plain": [
              "<Figure size 432x288 with 1 Axes>"
            ]
          },
          "metadata": {
            "tags": [],
            "needs_background": "light"
          }
        }
      ]
    },
    {
      "cell_type": "code",
      "metadata": {
        "colab": {
          "base_uri": "https://localhost:8080/"
        },
        "id": "SX1Nt-8CEHBw",
        "outputId": "0a794b08-d21e-4fa0-83f0-c9f79c38ca21"
      },
      "source": [
        "#  Pandas\n",
        "\n",
        "import pandas as pd\n",
        "\n",
        "#assigning dataset\n",
        "D = {'Name': ['Pritam',  'Riya',  'Ankita'],\n",
        "\n",
        "        \n",
        "'Roll': [20040,20041,20042],\n",
        "\n",
        "'Section': [\"F3\", \"F3\", \"F3\"]}\n",
        "\n",
        "Df= pd.DataFrame(D,columns=['Name',  'Roll',  'Section'])\n",
        "print(Df)"
      ],
      "execution_count": null,
      "outputs": [
        {
          "output_type": "stream",
          "text": [
            "     Name   Roll Section\n",
            "0  Pritam  20040      F3\n",
            "1    Riya  20041      F3\n",
            "2  Ankita  20042      F3\n"
          ],
          "name": "stdout"
        }
      ]
    },
    {
      "cell_type": "code",
      "metadata": {
        "id": "38peYf7KE5dz"
      },
      "source": [
        ""
      ],
      "execution_count": null,
      "outputs": []
    }
  ]
}